{
 "cells": [
  {
   "cell_type": "markdown",
   "id": "49c15ff1",
   "metadata": {},
   "source": [
    "# Nivell 1\n",
    "___\n",
    "## - Ejercicio 1\n",
    "El ejercicio consiste en crear un programa que te clasifique una variable numérica en función de la escala Suspendido/Aprobado/Notable/Excelente.\n",
    "\n",
    "\n"
   ]
  },
  {
   "cell_type": "markdown",
   "id": "57c20cb2",
   "metadata": {},
   "source": [
    "- Para solicitar al usuario que ingrese un numero que sera asignado a la variable nota, se utiliza el metodo *'input()'*, debido a que el input es tomado automaticamente como un *'String'* se realiza un casting para convertirlo a *'int'*\n",
    "- Despues se crea un bucle condicional para identificar a que escala corresponde la nota que ingreso el usuario *'if'*\n",
    "- Por ultimo, en base a los parametros dados para las escalas se imprime el resultado."
   ]
  },
  {
   "cell_type": "code",
   "execution_count": 7,
   "id": "98341fb5",
   "metadata": {},
   "outputs": [
    {
     "name": "stdout",
     "output_type": "stream",
     "text": [
      "Ingresa la nota: 10\n",
      "La nota es Excelente 10\n"
     ]
    }
   ],
   "source": [
    "nota = int(input('Ingresa la nota: '))  #inicializacion de las variables y casting de String a int\n",
    "if nota == 10: #bucle condicional de escala\n",
    "    print('La nota es Excelente', nota)\n",
    "elif nota >=8 and nota<10:\n",
    "    print('La nota es Notable',nota)\n",
    "elif nota <8 and nota>=5:\n",
    "    print('La nota es Aprobado', nota)\n",
    "elif nota <=5:\n",
    "    print('Has suspendido, tu nota es',nota)\n",
    "else:\n",
    "    print('el formato de la nota no es correcto')"
   ]
  },
  {
   "cell_type": "markdown",
   "id": "9be92467",
   "metadata": {},
   "source": [
    "## Ejercicio 2\n",
    "Utilizando el siguiente tutorial Programiz: Python Input, Output y Import crea un programa que te pregunte dos números. Debe mostrarte un mensaje diciendo si el primero es mayor, el segundo es mayor o son iguales.\n",
    "\n"
   ]
  },
  {
   "cell_type": "markdown",
   "id": "35c6b640",
   "metadata": {},
   "source": [
    "- De nuevo se pide al usuario que ingrese dos numeros mediante el metodo *'input()'* y se convierten a datos tipo int.\n",
    "- Se genera otro bucle condicional para validar si los numeros ingresados son iguales o uno es mayor-menor que el otro. \n",
    "- Se finaliza imprimiendo el resultado de la comparacion. "
   ]
  },
  {
   "cell_type": "code",
   "execution_count": 8,
   "id": "b1759d69",
   "metadata": {},
   "outputs": [
    {
     "name": "stdout",
     "output_type": "stream",
     "text": [
      "Ingresa el primer numero250\n",
      "Ingresa el segundo numero125\n",
      "El primer numero 250 es mayor que el segundo numero 125\n"
     ]
    }
   ],
   "source": [
    "num_user1 = int(input('Ingresa el primer numero')) #inicializacion de las variables y casting de String a int\n",
    "num_user2 = int(input('Ingresa el segundo numero'))\n",
    "\n",
    "if num_user1>num_user2:\n",
    "    print('El primer numero {} es mayor que el segundo numero {}'.format(num_user1,num_user2))\n",
    "elif num_user2>num_user1:\n",
    "    print('El segundo numero {} es mayor que el primer numero {}'.format(num_user2,num_user1))\n",
    "elif num_user1 == num_user2:\n",
    "    print('Los numeros introducidos son iguales')\n",
    "else:\n",
    "    print('Error')"
   ]
  },
  {
   "cell_type": "markdown",
   "id": "fe64c7ec",
   "metadata": {},
   "source": [
    "## Ejercicio 3\n",
    "Crea un programa que te pregunte tu nombre y te pida un número. Si el número es 0, debería mostrar un mensaje de error. De lo contrario, debería mostrar el nombre repetido tantas veces como indique el número. Por ejemplo, \"Joan Joan Joan\".\n",
    "\n"
   ]
  },
  {
   "cell_type": "markdown",
   "id": "48975dcf",
   "metadata": {},
   "source": [
    "- Se inicializan las variables solicitando al usuario un nombre y numero\n",
    "- Mediante un bucle while se solicita que se imprima el nombre dado por el usuario tantas veces como sea el numero ingresado."
   ]
  },
  {
   "cell_type": "code",
   "execution_count": 9,
   "id": "8e7e1f54",
   "metadata": {},
   "outputs": [
    {
     "name": "stdout",
     "output_type": "stream",
     "text": [
      "Ingresa tu nombre:Yovannaç\n",
      "Ingresa un numero:7\n",
      "Yovannaç Yovannaç Yovannaç Yovannaç Yovannaç Yovannaç Yovannaç "
     ]
    }
   ],
   "source": [
    "name_user = input('Ingresa tu nombre:')\n",
    "num_user = int(input('Ingresa un numero:'))\n",
    "i=0\n",
    "\n",
    "while i < num_user:\n",
    "    print(name_user, end=' ')\n",
    "    i +=1"
   ]
  },
  {
   "cell_type": "markdown",
   "id": "49f34515",
   "metadata": {},
   "source": [
    "## Ejercicio 4\n",
    "Crea un programa que dada una lista cualquiera, te diga si es simétrica o no. Si lo es, que te diga cuántos elementos tiene.\n"
   ]
  },
  {
   "cell_type": "markdown",
   "id": "0dcf9a11",
   "metadata": {},
   "source": [
    "Para encontrar si la lista es asimetrica, se creo un metodo llamado *'simetria'*, en el cual se incluyen 3 condicionales para comprobar la condicion:\n",
    "1. Verificar que la lista no este vacia\n",
    "2. Verificar si el número de filas y el número de columnas es el mismo. \n",
    "3. Verificar si el número de columnas y el número de filas son iguales (simetricas). Para lo cual se va a iterar en las columnas *'i'* y filas *'j'*.\n",
    "Una vez comprobado lo necesario, se genera un nuevo condicional donde si la condicion de simetria se cumple imprimira el resultado y la cantidad de elementos que la componen."
   ]
  },
  {
   "cell_type": "code",
   "execution_count": 30,
   "id": "409928c2",
   "metadata": {},
   "outputs": [
    {
     "name": "stdout",
     "output_type": "stream",
     "text": [
      "La lista es simetrica y tiene 3 elementos\n"
     ]
    }
   ],
   "source": [
    "  \n",
    "def simetria(l): #definicion de funcion\n",
    "    n = len(l) #variable donde se guarda la longitud de la lista\n",
    "    if l ==[]: #conditional 1 \n",
    "        return True\n",
    "    i=0\n",
    "    if n != len(l[0]): #conditional 2\n",
    "        return False\n",
    "    while i<= n-1: #conditional 2\n",
    "        j=0\n",
    "        while j<=n-1:\n",
    "            if l[i][j]!=l[i][j]:\n",
    "                return False\n",
    "            j = j+1\n",
    "        i = i+1\n",
    "    return True\n",
    "\n",
    "\n",
    "\n",
    "#creacion de lista\n",
    "lista1 =[[1,2,3],\n",
    "        [4,5,6],\n",
    "        [5,6,7]]\n",
    "\n",
    "#condicional que utiliza la funcion creada 'simetria'\n",
    "if simetria(lista1)== True:\n",
    "        print('La lista es simetrica y tiene',len(lista1),'elementos')\n",
    "else:\n",
    "        print('La lista no es simetrica')"
   ]
  },
  {
   "cell_type": "code",
   "execution_count": 31,
   "id": "60757a5a",
   "metadata": {},
   "outputs": [
    {
     "name": "stdout",
     "output_type": "stream",
     "text": [
      "La lista no es simetrica\n"
     ]
    }
   ],
   "source": [
    "lista_new = [[4,5,6], [5,6,7]]\n",
    "if simetria(lista_new)== True:\n",
    "        print('La lista es simetrica y tiene',len(lista1),'elementos')\n",
    "else:\n",
    "        print('La lista no es simetrica')"
   ]
  },
  {
   "cell_type": "markdown",
   "id": "56b7d620",
   "metadata": {},
   "source": [
    "## Ejercicio 5\n",
    "Crea un programa que dada una lista, te diga cuántos números coinciden con su posición. Por ejemplo [3,4,2,0,2,3,6] el 2 y el 6 coinciden."
   ]
  },
  {
   "cell_type": "markdown",
   "id": "a2c80332",
   "metadata": {},
   "source": [
    "- Se genera una lista de numeros para realizar el analisis\n",
    "- Mediante list comprehension se crea una lista nueva para los elementos que cumplen los requerimientos. Dentro de la creacion de la nueva lista se especifica un bucle para comprobar que cierto numero (*'ele*') y el *'index'* que ocupa en la lista coincida, agregando en dicha lista solo los elementos que cumplen.\n",
    "- Mediante el metodo *'enumerate'* se recorre la lista y se genera un contador automatico que sirve de parametro dentro del bucle\n",
    "- por ultimo, se imprime la nueva lista con los valores que cumplen la condicion"
   ]
  },
  {
   "cell_type": "code",
   "execution_count": 18,
   "id": "3914c863",
   "metadata": {},
   "outputs": [
    {
     "name": "stdout",
     "output_type": "stream",
     "text": [
      "Los elementos que coinciden con su index son: [1, 6]\n"
     ]
    }
   ],
   "source": [
    "lista2 = [2,1,3,5,5,4,6,8,9,]\n",
    "#linea de codigo con List comprehension y enumerate\n",
    "lista2_res = [ele for idx, ele in enumerate(lista2) if idx == ele]\n",
    "print('Los elementos que coinciden con su index son: '+str(lista2_res))"
   ]
  }
 ],
 "metadata": {
  "kernelspec": {
   "display_name": "Python 3",
   "language": "python",
   "name": "python3"
  },
  "language_info": {
   "codemirror_mode": {
    "name": "ipython",
    "version": 3
   },
   "file_extension": ".py",
   "mimetype": "text/x-python",
   "name": "python",
   "nbconvert_exporter": "python",
   "pygments_lexer": "ipython3",
   "version": "3.8.8"
  }
 },
 "nbformat": 4,
 "nbformat_minor": 5
}
